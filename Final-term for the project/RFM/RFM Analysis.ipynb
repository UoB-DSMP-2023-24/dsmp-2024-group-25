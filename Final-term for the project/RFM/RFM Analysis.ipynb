{
 "cells": [
  {
   "cell_type": "markdown",
   "metadata": {},
   "source": [
    "# RFM Analysis"
   ]
  },
  {
   "cell_type": "markdown",
   "metadata": {},
   "source": [
    "This iPython notebook explains how to perform RFM analysis from customer purchase history data. The sample orders file is Sample - Superstore dataset from Tableau Software.\n",
    "\n",
    "If you have suggestions or improvements please contribute on https://github.com/joaolcorreia/RFM-analysis"
   ]
  },
  {
   "cell_type": "code",
   "execution_count": 2,
   "metadata": {
    "collapsed": false
   },
   "outputs": [],
   "source": [
    "import pandas as pd\n",
    "import warnings\n",
    "warnings.filterwarnings('ignore')"
   ]
  },
  {
   "cell_type": "markdown",
   "metadata": {},
   "source": [
    "Read the sample orders file, containing all past purchases for all customers."
   ]
  },
  {
   "cell_type": "code",
   "execution_count": 17,
   "metadata": {
    "collapsed": false
   },
   "outputs": [],
   "source": [
    "orders = pd.read_csv('Purchase.csv',sep=',')\n",
    "orders = orders.drop('Third Party Account No', axis=1)\n",
    "orders['Amount'] = orders['Amount'].abs()\n",
    "orders['Account No'] = orders['Account No'].astype(int).astype(str)"
   ]
  },
  {
   "cell_type": "code",
   "execution_count": 18,
   "metadata": {
    "collapsed": false
   },
   "outputs": [
    {
     "data": {
      "text/html": [
       "<div>\n",
       "<style scoped>\n",
       "    .dataframe tbody tr th:only-of-type {\n",
       "        vertical-align: middle;\n",
       "    }\n",
       "\n",
       "    .dataframe tbody tr th {\n",
       "        vertical-align: top;\n",
       "    }\n",
       "\n",
       "    .dataframe thead th {\n",
       "        text-align: right;\n",
       "    }\n",
       "</style>\n",
       "<table border=\"1\" class=\"dataframe\">\n",
       "  <thead>\n",
       "    <tr style=\"text-align: right;\">\n",
       "      <th></th>\n",
       "      <th>Date</th>\n",
       "      <th>Timestamp</th>\n",
       "      <th>Account No</th>\n",
       "      <th>Balance</th>\n",
       "      <th>Amount</th>\n",
       "      <th>Third Party Name</th>\n",
       "    </tr>\n",
       "  </thead>\n",
       "  <tbody>\n",
       "    <tr>\n",
       "      <th>0</th>\n",
       "      <td>01/01/2023</td>\n",
       "      <td>00:00</td>\n",
       "      <td>355733816</td>\n",
       "      <td>526.00</td>\n",
       "      <td>664.0</td>\n",
       "      <td>Halifax</td>\n",
       "    </tr>\n",
       "    <tr>\n",
       "      <th>1</th>\n",
       "      <td>01/01/2023</td>\n",
       "      <td>00:00</td>\n",
       "      <td>472213568</td>\n",
       "      <td>2412.00</td>\n",
       "      <td>600.0</td>\n",
       "      <td>LBG</td>\n",
       "    </tr>\n",
       "    <tr>\n",
       "      <th>2</th>\n",
       "      <td>01/01/2023</td>\n",
       "      <td>00:00</td>\n",
       "      <td>624500124</td>\n",
       "      <td>2572.00</td>\n",
       "      <td>654.0</td>\n",
       "      <td>LBG</td>\n",
       "    </tr>\n",
       "    <tr>\n",
       "      <th>3</th>\n",
       "      <td>01/01/2023</td>\n",
       "      <td>00:00</td>\n",
       "      <td>203466392</td>\n",
       "      <td>3935.66</td>\n",
       "      <td>672.0</td>\n",
       "      <td>Halifax</td>\n",
       "    </tr>\n",
       "    <tr>\n",
       "      <th>4</th>\n",
       "      <td>01/01/2023</td>\n",
       "      <td>00:00</td>\n",
       "      <td>768271776</td>\n",
       "      <td>2208.00</td>\n",
       "      <td>632.0</td>\n",
       "      <td>LBG</td>\n",
       "    </tr>\n",
       "  </tbody>\n",
       "</table>\n",
       "</div>"
      ],
      "text/plain": [
       "         Date Timestamp Account No  Balance  Amount Third Party Name\n",
       "0  01/01/2023     00:00  355733816   526.00   664.0          Halifax\n",
       "1  01/01/2023     00:00  472213568  2412.00   600.0              LBG\n",
       "2  01/01/2023     00:00  624500124  2572.00   654.0              LBG\n",
       "3  01/01/2023     00:00  203466392  3935.66   672.0          Halifax\n",
       "4  01/01/2023     00:00  768271776  2208.00   632.0              LBG"
      ]
     },
     "execution_count": 18,
     "metadata": {},
     "output_type": "execute_result"
    }
   ],
   "source": [
    "orders.head()"
   ]
  },
  {
   "cell_type": "markdown",
   "metadata": {},
   "source": [
    "## Create the RFM Table"
   ]
  },
  {
   "cell_type": "markdown",
   "metadata": {},
   "source": [
    "Since recency is calculated for a point in time and the Tableau Super Store dataset last order date is Dec 31 2014, that is the date we will use to calculate recency."
   ]
  },
  {
   "cell_type": "markdown",
   "metadata": {},
   "source": [
    "Set this date to the current day and extract all orders until yesterday."
   ]
  },
  {
   "cell_type": "code",
   "execution_count": 19,
   "metadata": {
    "collapsed": true
   },
   "outputs": [],
   "source": [
    "import datetime as dt\n",
    "NOW = dt.datetime(2023,12,31)"
   ]
  },
  {
   "cell_type": "code",
   "execution_count": 20,
   "metadata": {
    "collapsed": false
   },
   "outputs": [],
   "source": [
    "# Make the date_placed column datetime\n",
    "orders['order_date'] = pd.to_datetime(orders['Date'], dayfirst=True)"
   ]
  },
  {
   "cell_type": "markdown",
   "metadata": {},
   "source": [
    "Create the RFM Table"
   ]
  },
  {
   "cell_type": "code",
   "execution_count": 23,
   "metadata": {
    "collapsed": false
   },
   "outputs": [],
   "source": [
    "rfmTable = orders.groupby('Third Party Name').agg({'order_date': lambda x: (NOW - x.max()).days, # Recency\n",
    "                                        'Account No': lambda x: len(x),      # Frequency\n",
    "                                        'Amount': lambda x: x.sum()}) # Monetary Value\n",
    "\n",
    "rfmTable['order_date'] = rfmTable['order_date'].astype(int)\n",
    "rfmTable.rename(columns={'order_date': 'recency', \n",
    "                         'Account No': 'frequency', \n",
    "                         'Amount': 'monetary_value'}, inplace=True)"
   ]
  },
  {
   "cell_type": "markdown",
   "metadata": {},
   "source": [
    "## Validating the RFM Table"
   ]
  },
  {
   "cell_type": "code",
   "execution_count": 24,
   "metadata": {
    "collapsed": false
   },
   "outputs": [
    {
     "data": {
      "text/html": [
       "<div>\n",
       "<style scoped>\n",
       "    .dataframe tbody tr th:only-of-type {\n",
       "        vertical-align: middle;\n",
       "    }\n",
       "\n",
       "    .dataframe tbody tr th {\n",
       "        vertical-align: top;\n",
       "    }\n",
       "\n",
       "    .dataframe thead th {\n",
       "        text-align: right;\n",
       "    }\n",
       "</style>\n",
       "<table border=\"1\" class=\"dataframe\">\n",
       "  <thead>\n",
       "    <tr style=\"text-align: right;\">\n",
       "      <th></th>\n",
       "      <th>recency</th>\n",
       "      <th>frequency</th>\n",
       "      <th>monetary_value</th>\n",
       "    </tr>\n",
       "    <tr>\n",
       "      <th>Third Party Name</th>\n",
       "      <th></th>\n",
       "      <th></th>\n",
       "      <th></th>\n",
       "    </tr>\n",
       "  </thead>\n",
       "  <tbody>\n",
       "    <tr>\n",
       "      <th>A Cut Above</th>\n",
       "      <td>145</td>\n",
       "      <td>1</td>\n",
       "      <td>200.00</td>\n",
       "    </tr>\n",
       "    <tr>\n",
       "      <th>A Yarn Story</th>\n",
       "      <td>25</td>\n",
       "      <td>279</td>\n",
       "      <td>6866.06</td>\n",
       "    </tr>\n",
       "    <tr>\n",
       "      <th>AMAZON</th>\n",
       "      <td>25</td>\n",
       "      <td>2017</td>\n",
       "      <td>47692.18</td>\n",
       "    </tr>\n",
       "    <tr>\n",
       "      <th>Amazon</th>\n",
       "      <td>25</td>\n",
       "      <td>7544</td>\n",
       "      <td>122626.70</td>\n",
       "    </tr>\n",
       "    <tr>\n",
       "      <th>Barbiee Boutique</th>\n",
       "      <td>290</td>\n",
       "      <td>1</td>\n",
       "      <td>270.00</td>\n",
       "    </tr>\n",
       "  </tbody>\n",
       "</table>\n",
       "</div>"
      ],
      "text/plain": [
       "                  recency  frequency  monetary_value\n",
       "Third Party Name                                    \n",
       "A Cut Above           145          1          200.00\n",
       "A Yarn Story           25        279         6866.06\n",
       "AMAZON                 25       2017        47692.18\n",
       "Amazon                 25       7544       122626.70\n",
       "Barbiee Boutique      290          1          270.00"
      ]
     },
     "execution_count": 24,
     "metadata": {},
     "output_type": "execute_result"
    }
   ],
   "source": [
    "rfmTable.head()"
   ]
  },
  {
   "cell_type": "code",
   "execution_count": 26,
   "metadata": {
    "collapsed": false
   },
   "outputs": [
    {
     "data": {
      "text/html": [
       "<div>\n",
       "<style scoped>\n",
       "    .dataframe tbody tr th:only-of-type {\n",
       "        vertical-align: middle;\n",
       "    }\n",
       "\n",
       "    .dataframe tbody tr th {\n",
       "        vertical-align: top;\n",
       "    }\n",
       "\n",
       "    .dataframe thead th {\n",
       "        text-align: right;\n",
       "    }\n",
       "</style>\n",
       "<table border=\"1\" class=\"dataframe\">\n",
       "  <thead>\n",
       "    <tr style=\"text-align: right;\">\n",
       "      <th></th>\n",
       "      <th>Date</th>\n",
       "      <th>Timestamp</th>\n",
       "      <th>Account No</th>\n",
       "      <th>Balance</th>\n",
       "      <th>Amount</th>\n",
       "      <th>Third Party Name</th>\n",
       "      <th>order_date</th>\n",
       "    </tr>\n",
       "  </thead>\n",
       "  <tbody>\n",
       "    <tr>\n",
       "      <th>0</th>\n",
       "      <td>01/01/2023</td>\n",
       "      <td>00:00</td>\n",
       "      <td>355733816</td>\n",
       "      <td>526.000000</td>\n",
       "      <td>664.00</td>\n",
       "      <td>Halifax</td>\n",
       "      <td>2023-01-01</td>\n",
       "    </tr>\n",
       "    <tr>\n",
       "      <th>4361</th>\n",
       "      <td>01/01/2023</td>\n",
       "      <td>10:33</td>\n",
       "      <td>355733816</td>\n",
       "      <td>468.982900</td>\n",
       "      <td>57.02</td>\n",
       "      <td>Coop Local</td>\n",
       "      <td>2023-01-01</td>\n",
       "    </tr>\n",
       "    <tr>\n",
       "      <th>6552</th>\n",
       "      <td>04/01/2023</td>\n",
       "      <td>09:26</td>\n",
       "      <td>355733816</td>\n",
       "      <td>1271.992900</td>\n",
       "      <td>6.99</td>\n",
       "      <td>The Works</td>\n",
       "      <td>2023-01-04</td>\n",
       "    </tr>\n",
       "    <tr>\n",
       "      <th>7107</th>\n",
       "      <td>05/01/2023</td>\n",
       "      <td>11:44</td>\n",
       "      <td>355733816</td>\n",
       "      <td>1243.032900</td>\n",
       "      <td>28.96</td>\n",
       "      <td>The Works</td>\n",
       "      <td>2023-01-05</td>\n",
       "    </tr>\n",
       "    <tr>\n",
       "      <th>8458</th>\n",
       "      <td>08/01/2023</td>\n",
       "      <td>09:35</td>\n",
       "      <td>355733816</td>\n",
       "      <td>1236.042900</td>\n",
       "      <td>6.99</td>\n",
       "      <td>The Works</td>\n",
       "      <td>2023-01-08</td>\n",
       "    </tr>\n",
       "    <tr>\n",
       "      <th>...</th>\n",
       "      <td>...</td>\n",
       "      <td>...</td>\n",
       "      <td>...</td>\n",
       "      <td>...</td>\n",
       "      <td>...</td>\n",
       "      <td>...</td>\n",
       "      <td>...</td>\n",
       "    </tr>\n",
       "    <tr>\n",
       "      <th>206791</th>\n",
       "      <td>30/11/2023</td>\n",
       "      <td>09:27</td>\n",
       "      <td>355733816</td>\n",
       "      <td>6388.106316</td>\n",
       "      <td>21.97</td>\n",
       "      <td>The Works</td>\n",
       "      <td>2023-11-30</td>\n",
       "    </tr>\n",
       "    <tr>\n",
       "      <th>207566</th>\n",
       "      <td>01/12/2023</td>\n",
       "      <td>00:00</td>\n",
       "      <td>355733816</td>\n",
       "      <td>5724.106316</td>\n",
       "      <td>664.00</td>\n",
       "      <td>Halifax</td>\n",
       "      <td>2023-12-01</td>\n",
       "    </tr>\n",
       "    <tr>\n",
       "      <th>212411</th>\n",
       "      <td>02/12/2023</td>\n",
       "      <td>07:33</td>\n",
       "      <td>355733816</td>\n",
       "      <td>5718.073720</td>\n",
       "      <td>6.03</td>\n",
       "      <td>Boots</td>\n",
       "      <td>2023-12-02</td>\n",
       "    </tr>\n",
       "    <tr>\n",
       "      <th>213265</th>\n",
       "      <td>03/12/2023</td>\n",
       "      <td>10:52</td>\n",
       "      <td>355733816</td>\n",
       "      <td>5706.093720</td>\n",
       "      <td>11.98</td>\n",
       "      <td>The Works</td>\n",
       "      <td>2023-12-03</td>\n",
       "    </tr>\n",
       "    <tr>\n",
       "      <th>213977</th>\n",
       "      <td>04/12/2023</td>\n",
       "      <td>12:21</td>\n",
       "      <td>355733816</td>\n",
       "      <td>5689.123720</td>\n",
       "      <td>16.97</td>\n",
       "      <td>The Works</td>\n",
       "      <td>2023-12-04</td>\n",
       "    </tr>\n",
       "  </tbody>\n",
       "</table>\n",
       "<p>228 rows × 7 columns</p>\n",
       "</div>"
      ],
      "text/plain": [
       "              Date Timestamp Account No      Balance  Amount Third Party Name  \\\n",
       "0       01/01/2023     00:00  355733816   526.000000  664.00          Halifax   \n",
       "4361    01/01/2023     10:33  355733816   468.982900   57.02       Coop Local   \n",
       "6552    04/01/2023     09:26  355733816  1271.992900    6.99        The Works   \n",
       "7107    05/01/2023     11:44  355733816  1243.032900   28.96        The Works   \n",
       "8458    08/01/2023     09:35  355733816  1236.042900    6.99        The Works   \n",
       "...            ...       ...        ...          ...     ...              ...   \n",
       "206791  30/11/2023     09:27  355733816  6388.106316   21.97        The Works   \n",
       "207566  01/12/2023     00:00  355733816  5724.106316  664.00          Halifax   \n",
       "212411  02/12/2023     07:33  355733816  5718.073720    6.03            Boots   \n",
       "213265  03/12/2023     10:52  355733816  5706.093720   11.98        The Works   \n",
       "213977  04/12/2023     12:21  355733816  5689.123720   16.97        The Works   \n",
       "\n",
       "       order_date  \n",
       "0      2023-01-01  \n",
       "4361   2023-01-01  \n",
       "6552   2023-01-04  \n",
       "7107   2023-01-05  \n",
       "8458   2023-01-08  \n",
       "...           ...  \n",
       "206791 2023-11-30  \n",
       "207566 2023-12-01  \n",
       "212411 2023-12-02  \n",
       "213265 2023-12-03  \n",
       "213977 2023-12-04  \n",
       "\n",
       "[228 rows x 7 columns]"
      ]
     },
     "execution_count": 26,
     "metadata": {},
     "output_type": "execute_result"
    }
   ],
   "source": [
    "cu1 = orders[orders['Account No']=='355733816']\n",
    "cu1"
   ]
  },
  {
   "cell_type": "markdown",
   "metadata": {},
   "source": [
    "## Determining RFM Quartiles"
   ]
  },
  {
   "cell_type": "code",
   "execution_count": 27,
   "metadata": {
    "collapsed": false
   },
   "outputs": [],
   "source": [
    "quantiles = rfmTable.quantile(q=[0.25,0.5,0.75])"
   ]
  },
  {
   "cell_type": "code",
   "execution_count": 28,
   "metadata": {
    "collapsed": false
   },
   "outputs": [
    {
     "data": {
      "text/html": [
       "<div>\n",
       "<style scoped>\n",
       "    .dataframe tbody tr th:only-of-type {\n",
       "        vertical-align: middle;\n",
       "    }\n",
       "\n",
       "    .dataframe tbody tr th {\n",
       "        vertical-align: top;\n",
       "    }\n",
       "\n",
       "    .dataframe thead th {\n",
       "        text-align: right;\n",
       "    }\n",
       "</style>\n",
       "<table border=\"1\" class=\"dataframe\">\n",
       "  <thead>\n",
       "    <tr style=\"text-align: right;\">\n",
       "      <th></th>\n",
       "      <th>recency</th>\n",
       "      <th>frequency</th>\n",
       "      <th>monetary_value</th>\n",
       "    </tr>\n",
       "  </thead>\n",
       "  <tbody>\n",
       "    <tr>\n",
       "      <th>0.25</th>\n",
       "      <td>25.00</td>\n",
       "      <td>2.25</td>\n",
       "      <td>324.995</td>\n",
       "    </tr>\n",
       "    <tr>\n",
       "      <th>0.50</th>\n",
       "      <td>27.50</td>\n",
       "      <td>1785.50</td>\n",
       "      <td>30926.835</td>\n",
       "    </tr>\n",
       "    <tr>\n",
       "      <th>0.75</th>\n",
       "      <td>126.25</td>\n",
       "      <td>3908.25</td>\n",
       "      <td>135194.740</td>\n",
       "    </tr>\n",
       "  </tbody>\n",
       "</table>\n",
       "</div>"
      ],
      "text/plain": [
       "      recency  frequency  monetary_value\n",
       "0.25    25.00       2.25         324.995\n",
       "0.50    27.50    1785.50       30926.835\n",
       "0.75   126.25    3908.25      135194.740"
      ]
     },
     "execution_count": 28,
     "metadata": {},
     "output_type": "execute_result"
    }
   ],
   "source": [
    "quantiles"
   ]
  },
  {
   "cell_type": "markdown",
   "metadata": {},
   "source": [
    "Send quantiles to a dictionary, easier to use."
   ]
  },
  {
   "cell_type": "code",
   "execution_count": 29,
   "metadata": {
    "collapsed": false
   },
   "outputs": [],
   "source": [
    "quantiles = quantiles.to_dict()"
   ]
  },
  {
   "cell_type": "markdown",
   "metadata": {},
   "source": [
    "Recency：\n",
    "25%的客户最后一次购买是在25天或更少时间之前。\n",
    "50%的客户（中位数，0.5位置）最后一次购买是在27.5天或更少时间之前。\n",
    "75%的客户最后一次购买是在126.25天或更少时间之前。\n",
    "\n",
    "Frequency：\n",
    "25%的客户在给定时间段内的购买次数是2.25次或更少。\n",
    "50%的客户的购买次数是1785.5次或更少。\n",
    "75%的客户的购买次数是3908.25次或更少。\n",
    "\n",
    "Monetary Value：\n",
    "25%的客户在给定时间段内的购买金额是324.995或更少。\n",
    "50%的客户的购买金额是30926.834999999995或更少。\n",
    "75%的客户的购买金额是135194.74或更少。"
   ]
  },
  {
   "cell_type": "code",
   "execution_count": 30,
   "metadata": {
    "collapsed": false
   },
   "outputs": [
    {
     "data": {
      "text/plain": [
       "{'recency': {0.25: 25.0, 0.5: 27.5, 0.75: 126.25},\n",
       " 'frequency': {0.25: 2.25, 0.5: 1785.5, 0.75: 3908.25},\n",
       " 'monetary_value': {0.25: 324.995, 0.5: 30926.834999999995, 0.75: 135194.74}}"
      ]
     },
     "execution_count": 30,
     "metadata": {},
     "output_type": "execute_result"
    }
   ],
   "source": [
    "quantiles"
   ]
  },
  {
   "cell_type": "markdown",
   "metadata": {},
   "source": [
    "## Creating the RFM segmentation table"
   ]
  },
  {
   "cell_type": "code",
   "execution_count": 31,
   "metadata": {
    "collapsed": true
   },
   "outputs": [],
   "source": [
    "rfmSegmentation = rfmTable"
   ]
  },
  {
   "cell_type": "markdown",
   "metadata": {},
   "source": [
    "We create two classes for the RFM segmentation since, being high recency is bad, while high frequency and monetary value is good. "
   ]
  },
  {
   "cell_type": "code",
   "execution_count": 32,
   "metadata": {
    "collapsed": false
   },
   "outputs": [],
   "source": [
    "# Arguments (x = value, p = recency, monetary_value, frequency, k = quartiles dict)\n",
    "def RClass(x,p,d):\n",
    "    if x <= d[p][0.25]:\n",
    "        return 1\n",
    "    elif x <= d[p][0.50]:\n",
    "        return 2\n",
    "    elif x <= d[p][0.75]: \n",
    "        return 3\n",
    "    else:\n",
    "        return 4\n",
    "    \n",
    "# Arguments (x = value, p = recency, monetary_value, frequency, k = quartiles dict)\n",
    "def FMClass(x,p,d):\n",
    "    if x <= d[p][0.25]:\n",
    "        return 4\n",
    "    elif x <= d[p][0.50]:\n",
    "        return 3\n",
    "    elif x <= d[p][0.75]: \n",
    "        return 2\n",
    "    else:\n",
    "        return 1\n"
   ]
  },
  {
   "cell_type": "code",
   "execution_count": 33,
   "metadata": {
    "collapsed": false
   },
   "outputs": [],
   "source": [
    "rfmSegmentation['R_Quartile'] = rfmSegmentation['recency'].apply(RClass, args=('recency',quantiles,))\n",
    "rfmSegmentation['F_Quartile'] = rfmSegmentation['frequency'].apply(FMClass, args=('frequency',quantiles,))\n",
    "rfmSegmentation['M_Quartile'] = rfmSegmentation['monetary_value'].apply(FMClass, args=('monetary_value',quantiles,))"
   ]
  },
  {
   "cell_type": "code",
   "execution_count": 34,
   "metadata": {
    "collapsed": false
   },
   "outputs": [],
   "source": [
    "rfmSegmentation['RFMClass'] = rfmSegmentation.R_Quartile.map(str) \\\n",
    "                            + rfmSegmentation.F_Quartile.map(str) \\\n",
    "                            + rfmSegmentation.M_Quartile.map(str)"
   ]
  },
  {
   "cell_type": "markdown",
   "metadata": {},
   "source": [
    "R_Quartile：基于recency分数的四分位排名，1表示最好（最近的购买），而4表示最差（最久远的购买）。\n",
    "\n",
    "F_Quartile：基于frequency分数的四分位排名，1表示最差（购买次数最少），而4表示最好（购买次数最多）。\n",
    "\n",
    "M_Quartile：基于monetary_value分数的四分位排名，1表示最差（消费金额最少），而4表示最好（消费金额最多）。\n",
    "\n",
    "\n",
    "\n",
    "444：这个客户最近的购买日期较远（R=4），购买频率低（F=4），消费金额也较少（M=4）。这可能表明这个客户对你的业务不再那么活跃。\n",
    "\n",
    "133：这个客户最近有购买（R=1），但购买频率较低（F=3），消费金额适中（M=3）。\n",
    "\n",
    "122：这个客户最近有购买（R=1），购买频率高（F=2），消费金额也高（M=2）。这表明这是一个价值较高的客户。\n",
    "\n",
    "112：这个客户最近有购买（R=1），购买频率非常高（F=1），消费金额也非常高（M=2），这是一个非常重要的客户，可能是一个忠诚并经常大额消费的VIP客户。"
   ]
  },
  {
   "cell_type": "code",
   "execution_count": 35,
   "metadata": {
    "collapsed": false
   },
   "outputs": [
    {
     "data": {
      "text/html": [
       "<div>\n",
       "<style scoped>\n",
       "    .dataframe tbody tr th:only-of-type {\n",
       "        vertical-align: middle;\n",
       "    }\n",
       "\n",
       "    .dataframe tbody tr th {\n",
       "        vertical-align: top;\n",
       "    }\n",
       "\n",
       "    .dataframe thead th {\n",
       "        text-align: right;\n",
       "    }\n",
       "</style>\n",
       "<table border=\"1\" class=\"dataframe\">\n",
       "  <thead>\n",
       "    <tr style=\"text-align: right;\">\n",
       "      <th></th>\n",
       "      <th>recency</th>\n",
       "      <th>frequency</th>\n",
       "      <th>monetary_value</th>\n",
       "      <th>R_Quartile</th>\n",
       "      <th>F_Quartile</th>\n",
       "      <th>M_Quartile</th>\n",
       "      <th>RFMClass</th>\n",
       "    </tr>\n",
       "    <tr>\n",
       "      <th>Third Party Name</th>\n",
       "      <th></th>\n",
       "      <th></th>\n",
       "      <th></th>\n",
       "      <th></th>\n",
       "      <th></th>\n",
       "      <th></th>\n",
       "      <th></th>\n",
       "    </tr>\n",
       "  </thead>\n",
       "  <tbody>\n",
       "    <tr>\n",
       "      <th>A Cut Above</th>\n",
       "      <td>145</td>\n",
       "      <td>1</td>\n",
       "      <td>200.00</td>\n",
       "      <td>4</td>\n",
       "      <td>4</td>\n",
       "      <td>4</td>\n",
       "      <td>444</td>\n",
       "    </tr>\n",
       "    <tr>\n",
       "      <th>A Yarn Story</th>\n",
       "      <td>25</td>\n",
       "      <td>279</td>\n",
       "      <td>6866.06</td>\n",
       "      <td>1</td>\n",
       "      <td>3</td>\n",
       "      <td>3</td>\n",
       "      <td>133</td>\n",
       "    </tr>\n",
       "    <tr>\n",
       "      <th>AMAZON</th>\n",
       "      <td>25</td>\n",
       "      <td>2017</td>\n",
       "      <td>47692.18</td>\n",
       "      <td>1</td>\n",
       "      <td>2</td>\n",
       "      <td>2</td>\n",
       "      <td>122</td>\n",
       "    </tr>\n",
       "    <tr>\n",
       "      <th>Amazon</th>\n",
       "      <td>25</td>\n",
       "      <td>7544</td>\n",
       "      <td>122626.70</td>\n",
       "      <td>1</td>\n",
       "      <td>1</td>\n",
       "      <td>2</td>\n",
       "      <td>112</td>\n",
       "    </tr>\n",
       "    <tr>\n",
       "      <th>Barbiee Boutique</th>\n",
       "      <td>290</td>\n",
       "      <td>1</td>\n",
       "      <td>270.00</td>\n",
       "      <td>4</td>\n",
       "      <td>4</td>\n",
       "      <td>4</td>\n",
       "      <td>444</td>\n",
       "    </tr>\n",
       "  </tbody>\n",
       "</table>\n",
       "</div>"
      ],
      "text/plain": [
       "                  recency  frequency  monetary_value  R_Quartile  F_Quartile  \\\n",
       "Third Party Name                                                               \n",
       "A Cut Above           145          1          200.00           4           4   \n",
       "A Yarn Story           25        279         6866.06           1           3   \n",
       "AMAZON                 25       2017        47692.18           1           2   \n",
       "Amazon                 25       7544       122626.70           1           1   \n",
       "Barbiee Boutique      290          1          270.00           4           4   \n",
       "\n",
       "                  M_Quartile RFMClass  \n",
       "Third Party Name                       \n",
       "A Cut Above                4      444  \n",
       "A Yarn Story               3      133  \n",
       "AMAZON                     2      122  \n",
       "Amazon                     2      112  \n",
       "Barbiee Boutique           4      444  "
      ]
     },
     "execution_count": 35,
     "metadata": {},
     "output_type": "execute_result"
    }
   ],
   "source": [
    "rfmSegmentation.head()"
   ]
  },
  {
   "cell_type": "code",
   "execution_count": 36,
   "metadata": {
    "collapsed": false
   },
   "outputs": [],
   "source": [
    "# Uncomment any of the following lines to: copy data to clipboard or save it to a CSV file.\n",
    "rfmSegmentation.to_clipboard()\n",
    "rfmSegmentation.to_csv('rfm-table.csv', sep=',')"
   ]
  },
  {
   "cell_type": "markdown",
   "metadata": {},
   "source": [
    "Who are the top 5 best customers? by RFM Class (111), high spenders who buy recently and frequently?"
   ]
  },
  {
   "cell_type": "code",
   "execution_count": 38,
   "metadata": {
    "collapsed": false
   },
   "outputs": [
    {
     "data": {
      "text/html": [
       "<div>\n",
       "<style scoped>\n",
       "    .dataframe tbody tr th:only-of-type {\n",
       "        vertical-align: middle;\n",
       "    }\n",
       "\n",
       "    .dataframe tbody tr th {\n",
       "        vertical-align: top;\n",
       "    }\n",
       "\n",
       "    .dataframe thead th {\n",
       "        text-align: right;\n",
       "    }\n",
       "</style>\n",
       "<table border=\"1\" class=\"dataframe\">\n",
       "  <thead>\n",
       "    <tr style=\"text-align: right;\">\n",
       "      <th></th>\n",
       "      <th>recency</th>\n",
       "      <th>frequency</th>\n",
       "      <th>monetary_value</th>\n",
       "      <th>R_Quartile</th>\n",
       "      <th>F_Quartile</th>\n",
       "      <th>M_Quartile</th>\n",
       "      <th>RFMClass</th>\n",
       "    </tr>\n",
       "    <tr>\n",
       "      <th>Third Party Name</th>\n",
       "      <th></th>\n",
       "      <th></th>\n",
       "      <th></th>\n",
       "      <th></th>\n",
       "      <th></th>\n",
       "      <th></th>\n",
       "      <th></th>\n",
       "    </tr>\n",
       "  </thead>\n",
       "  <tbody>\n",
       "    <tr>\n",
       "      <th>Tesco</th>\n",
       "      <td>25</td>\n",
       "      <td>33754</td>\n",
       "      <td>2533210.75</td>\n",
       "      <td>1</td>\n",
       "      <td>1</td>\n",
       "      <td>1</td>\n",
       "      <td>111</td>\n",
       "    </tr>\n",
       "    <tr>\n",
       "      <th>Topshop</th>\n",
       "      <td>25</td>\n",
       "      <td>10276</td>\n",
       "      <td>1066128.85</td>\n",
       "      <td>1</td>\n",
       "      <td>1</td>\n",
       "      <td>1</td>\n",
       "      <td>111</td>\n",
       "    </tr>\n",
       "    <tr>\n",
       "      <th>Sports Direct</th>\n",
       "      <td>25</td>\n",
       "      <td>16171</td>\n",
       "      <td>990755.20</td>\n",
       "      <td>1</td>\n",
       "      <td>1</td>\n",
       "      <td>1</td>\n",
       "      <td>111</td>\n",
       "    </tr>\n",
       "    <tr>\n",
       "      <th>Fat Face</th>\n",
       "      <td>25</td>\n",
       "      <td>9276</td>\n",
       "      <td>956851.57</td>\n",
       "      <td>1</td>\n",
       "      <td>1</td>\n",
       "      <td>1</td>\n",
       "      <td>111</td>\n",
       "    </tr>\n",
       "    <tr>\n",
       "      <th>Matalan</th>\n",
       "      <td>25</td>\n",
       "      <td>7822</td>\n",
       "      <td>752839.49</td>\n",
       "      <td>1</td>\n",
       "      <td>1</td>\n",
       "      <td>1</td>\n",
       "      <td>111</td>\n",
       "    </tr>\n",
       "  </tbody>\n",
       "</table>\n",
       "</div>"
      ],
      "text/plain": [
       "                  recency  frequency  monetary_value  R_Quartile  F_Quartile  \\\n",
       "Third Party Name                                                               \n",
       "Tesco                  25      33754      2533210.75           1           1   \n",
       "Topshop                25      10276      1066128.85           1           1   \n",
       "Sports Direct          25      16171       990755.20           1           1   \n",
       "Fat Face               25       9276       956851.57           1           1   \n",
       "Matalan                25       7822       752839.49           1           1   \n",
       "\n",
       "                  M_Quartile RFMClass  \n",
       "Third Party Name                       \n",
       "Tesco                      1      111  \n",
       "Topshop                    1      111  \n",
       "Sports Direct              1      111  \n",
       "Fat Face                   1      111  \n",
       "Matalan                    1      111  "
      ]
     },
     "execution_count": 38,
     "metadata": {},
     "output_type": "execute_result"
    }
   ],
   "source": [
    "rfmSegmentation[rfmSegmentation['RFMClass']=='111'].sort_values('monetary_value', ascending=False).head(5)"
   ]
  }
 ],
 "metadata": {
  "kernelspec": {
   "display_name": "text_analytics",
   "language": "python",
   "name": "text_analytics"
  },
  "language_info": {
   "codemirror_mode": {
    "name": "ipython",
    "version": 3
   },
   "file_extension": ".py",
   "mimetype": "text/x-python",
   "name": "python",
   "nbconvert_exporter": "python",
   "pygments_lexer": "ipython3",
   "version": "3.11.8"
  }
 },
 "nbformat": 4,
 "nbformat_minor": 0
}
