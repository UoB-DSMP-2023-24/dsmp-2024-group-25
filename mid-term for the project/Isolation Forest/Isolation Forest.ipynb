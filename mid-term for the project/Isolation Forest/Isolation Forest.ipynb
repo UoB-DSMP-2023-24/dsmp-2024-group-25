{
 "cells": [
  {
   "cell_type": "code",
   "execution_count": 7,
   "metadata": {},
   "outputs": [],
   "source": [
    "import pandas as pd\n",
    "import numpy as np\n",
    "from sklearn.ensemble import IsolationForest"
   ]
  },
  {
   "cell_type": "code",
   "execution_count": 2,
   "metadata": {},
   "outputs": [],
   "source": [
    "#load data\n",
    "data = pd.read_csv('fake_transactional_data_24.csv')"
   ]
  },
  {
   "cell_type": "code",
   "execution_count": 3,
   "metadata": {},
   "outputs": [],
   "source": [
    "#build random seed to generate balance\n",
    "np.random.seed(17)\n",
    "\n",
    "data['account_balance'] = np.random.uniform(1000, 20000, size=len(data))"
   ]
  },
  {
   "cell_type": "code",
   "execution_count": 5,
   "metadata": {},
   "outputs": [],
   "source": [
    "#proportion of transaction\n",
    "data['transaction_percentage'] = data['monopoly_money_amount'] / data['account_balance'] * 100"
   ]
  },
  {
   "cell_type": "code",
   "execution_count": 6,
   "metadata": {},
   "outputs": [],
   "source": [
    "#fraud rule\n",
    "\n",
    "data['alert'] = np.select(\n",
    "    [\n",
    "        data['transaction_percentage'] > 50,\n",
    "        data['transaction_percentage'] > 30,\n",
    "        data['transaction_percentage'] > 10\n",
    "    ],\n",
    "    [\n",
    "        'Freeze Account',  \n",
    "        'Call to Inquire',  \n",
    "        'Send Warning'      \n",
    "    ],\n",
    "    default='No Action'  \n",
    ")"
   ]
  },
  {
   "cell_type": "code",
   "execution_count": 8,
   "metadata": {},
   "outputs": [
    {
     "data": {
      "text/html": [
       "<style>#sk-container-id-1 {color: black;}#sk-container-id-1 pre{padding: 0;}#sk-container-id-1 div.sk-toggleable {background-color: white;}#sk-container-id-1 label.sk-toggleable__label {cursor: pointer;display: block;width: 100%;margin-bottom: 0;padding: 0.3em;box-sizing: border-box;text-align: center;}#sk-container-id-1 label.sk-toggleable__label-arrow:before {content: \"▸\";float: left;margin-right: 0.25em;color: #696969;}#sk-container-id-1 label.sk-toggleable__label-arrow:hover:before {color: black;}#sk-container-id-1 div.sk-estimator:hover label.sk-toggleable__label-arrow:before {color: black;}#sk-container-id-1 div.sk-toggleable__content {max-height: 0;max-width: 0;overflow: hidden;text-align: left;background-color: #f0f8ff;}#sk-container-id-1 div.sk-toggleable__content pre {margin: 0.2em;color: black;border-radius: 0.25em;background-color: #f0f8ff;}#sk-container-id-1 input.sk-toggleable__control:checked~div.sk-toggleable__content {max-height: 200px;max-width: 100%;overflow: auto;}#sk-container-id-1 input.sk-toggleable__control:checked~label.sk-toggleable__label-arrow:before {content: \"▾\";}#sk-container-id-1 div.sk-estimator input.sk-toggleable__control:checked~label.sk-toggleable__label {background-color: #d4ebff;}#sk-container-id-1 div.sk-label input.sk-toggleable__control:checked~label.sk-toggleable__label {background-color: #d4ebff;}#sk-container-id-1 input.sk-hidden--visually {border: 0;clip: rect(1px 1px 1px 1px);clip: rect(1px, 1px, 1px, 1px);height: 1px;margin: -1px;overflow: hidden;padding: 0;position: absolute;width: 1px;}#sk-container-id-1 div.sk-estimator {font-family: monospace;background-color: #f0f8ff;border: 1px dotted black;border-radius: 0.25em;box-sizing: border-box;margin-bottom: 0.5em;}#sk-container-id-1 div.sk-estimator:hover {background-color: #d4ebff;}#sk-container-id-1 div.sk-parallel-item::after {content: \"\";width: 100%;border-bottom: 1px solid gray;flex-grow: 1;}#sk-container-id-1 div.sk-label:hover label.sk-toggleable__label {background-color: #d4ebff;}#sk-container-id-1 div.sk-serial::before {content: \"\";position: absolute;border-left: 1px solid gray;box-sizing: border-box;top: 0;bottom: 0;left: 50%;z-index: 0;}#sk-container-id-1 div.sk-serial {display: flex;flex-direction: column;align-items: center;background-color: white;padding-right: 0.2em;padding-left: 0.2em;position: relative;}#sk-container-id-1 div.sk-item {position: relative;z-index: 1;}#sk-container-id-1 div.sk-parallel {display: flex;align-items: stretch;justify-content: center;background-color: white;position: relative;}#sk-container-id-1 div.sk-item::before, #sk-container-id-1 div.sk-parallel-item::before {content: \"\";position: absolute;border-left: 1px solid gray;box-sizing: border-box;top: 0;bottom: 0;left: 50%;z-index: -1;}#sk-container-id-1 div.sk-parallel-item {display: flex;flex-direction: column;z-index: 1;position: relative;background-color: white;}#sk-container-id-1 div.sk-parallel-item:first-child::after {align-self: flex-end;width: 50%;}#sk-container-id-1 div.sk-parallel-item:last-child::after {align-self: flex-start;width: 50%;}#sk-container-id-1 div.sk-parallel-item:only-child::after {width: 0;}#sk-container-id-1 div.sk-dashed-wrapped {border: 1px dashed gray;margin: 0 0.4em 0.5em 0.4em;box-sizing: border-box;padding-bottom: 0.4em;background-color: white;}#sk-container-id-1 div.sk-label label {font-family: monospace;font-weight: bold;display: inline-block;line-height: 1.2em;}#sk-container-id-1 div.sk-label-container {text-align: center;}#sk-container-id-1 div.sk-container {/* jupyter's `normalize.less` sets `[hidden] { display: none; }` but bootstrap.min.css set `[hidden] { display: none !important; }` so we also need the `!important` here to be able to override the default hidden behavior on the sphinx rendered scikit-learn.org. See: https://github.com/scikit-learn/scikit-learn/issues/21755 */display: inline-block !important;position: relative;}#sk-container-id-1 div.sk-text-repr-fallback {display: none;}</style><div id=\"sk-container-id-1\" class=\"sk-top-container\"><div class=\"sk-text-repr-fallback\"><pre>IsolationForest(random_state=17)</pre><b>In a Jupyter environment, please rerun this cell to show the HTML representation or trust the notebook. <br />On GitHub, the HTML representation is unable to render, please try loading this page with nbviewer.org.</b></div><div class=\"sk-container\" hidden><div class=\"sk-item\"><div class=\"sk-estimator sk-toggleable\"><input class=\"sk-toggleable__control sk-hidden--visually\" id=\"sk-estimator-id-1\" type=\"checkbox\" checked><label for=\"sk-estimator-id-1\" class=\"sk-toggleable__label sk-toggleable__label-arrow\">IsolationForest</label><div class=\"sk-toggleable__content\"><pre>IsolationForest(random_state=17)</pre></div></div></div></div></div>"
      ],
      "text/plain": [
       "IsolationForest(random_state=17)"
      ]
     },
     "execution_count": 8,
     "metadata": {},
     "output_type": "execute_result"
    }
   ],
   "source": [
    "#Isolation forest set up\n",
    "forest = IsolationForest(n_estimators=100, max_samples='auto', contamination='auto', random_state=17)\n",
    "\n",
    "# choosing feature\n",
    "features = data[['monopoly_money_amount', 'transaction_percentage']]\n",
    "\n",
    "# train model\n",
    "forest.fit(features)\n"
   ]
  },
  {
   "cell_type": "code",
   "execution_count": 9,
   "metadata": {},
   "outputs": [],
   "source": [
    "\n",
    "data['anomaly_score'] = forest.decision_function(features)\n",
    "\n",
    "\n",
    "data['is_anomaly'] = forest.predict(features)\n",
    "data['is_anomaly'] = data['is_anomaly'].map({1: 'No', -1: 'Yes'})\n"
   ]
  },
  {
   "cell_type": "code",
   "execution_count": 12,
   "metadata": {},
   "outputs": [
    {
     "name": "stdout",
     "output_type": "stream",
     "text": [
      "   from_totally_fake_account  monopoly_money_amount  \\\n",
      "0                      10371                   4.00   \n",
      "1                      88339                   2.40   \n",
      "2                      18555                   2.40   \n",
      "3                      18555                   4.10   \n",
      "4                      80792                   1.95   \n",
      "5                      18555                   4.45   \n",
      "6                      18555                   1.45   \n",
      "7                      18555                   5.00   \n",
      "8                      41378                   2.55   \n",
      "9                      41378                   1.80   \n",
      "\n",
      "  to_randomly_generated_account not_happened_yet_date  account_balance  \\\n",
      "0                        CINEMA            01/01/2025      6598.635051   \n",
      "1                         40544            01/01/2025     11081.148357   \n",
      "2                         85149            01/01/2025      4638.894952   \n",
      "3           HIPSTER_COFFEE_SHOP            01/01/2025      2290.106806   \n",
      "4                         18555            01/01/2025     15952.723740   \n",
      "5    TOTALLY_A_REAL_COFFEE_SHOP            01/01/2025     13470.336914   \n",
      "6                   COFFEE_SHOP            01/01/2025     13112.897025   \n",
      "7                          CAFE            01/01/2025     11936.454981   \n",
      "8                   COFFEE_SHOP            01/01/2025      1742.195408   \n",
      "9                   COFFEE_SHOP            01/01/2025      7798.458485   \n",
      "\n",
      "   transaction_percentage      alert  anomaly_score is_anomaly  \n",
      "0                0.060619  No Action       0.131222         No  \n",
      "1                0.021658  No Action       0.145339         No  \n",
      "2                0.051736  No Action       0.141832         No  \n",
      "3                0.179031  No Action       0.092512         No  \n",
      "4                0.012224  No Action       0.128846         No  \n",
      "5                0.033036  No Action       0.141537         No  \n",
      "6                0.011058  No Action       0.101282         No  \n",
      "7                0.041888  No Action       0.146952         No  \n",
      "8                0.146367  No Action       0.098051         No  \n",
      "9                0.023081  No Action       0.126565         No  \n"
     ]
    }
   ],
   "source": [
    "print(data.head(10))"
   ]
  },
  {
   "cell_type": "code",
   "execution_count": 15,
   "metadata": {},
   "outputs": [
    {
     "data": {
      "text/plain": [
       "No     938451\n",
       "Yes    110124\n",
       "Name: is_anomaly, dtype: int64"
      ]
     },
     "execution_count": 15,
     "metadata": {},
     "output_type": "execute_result"
    }
   ],
   "source": [
    "anomaly_counts = data['is_anomaly'].value_counts()\n",
    "anomaly_counts"
   ]
  },
  {
   "cell_type": "code",
   "execution_count": 16,
   "metadata": {},
   "outputs": [
    {
     "data": {
      "text/plain": [
       "No Action          1045261\n",
       "Send Warning          2545\n",
       "Call to Inquire        419\n",
       "Freeze Account         350\n",
       "Name: alert, dtype: int64"
      ]
     },
     "execution_count": 16,
     "metadata": {},
     "output_type": "execute_result"
    }
   ],
   "source": [
    "alert_counts = data['alert'].value_counts()\n",
    "alert_counts"
   ]
  },
  {
   "cell_type": "code",
   "execution_count": 18,
   "metadata": {},
   "outputs": [
    {
     "data": {
      "text/plain": [
       "No Action    938451\n",
       "Name: alert, dtype: int64"
      ]
     },
     "execution_count": 18,
     "metadata": {},
     "output_type": "execute_result"
    }
   ],
   "source": [
    "#throw away the anomaly data\n",
    "data_clean = data[data['is_anomaly'] == 'No']\n",
    "\n",
    "# delete anomaly column\n",
    "data_clean = data_clean.drop(columns=['anomaly_score', 'is_anomaly'])\n",
    "\n",
    "alert_counts_clean = data_clean['alert'].value_counts()\n",
    "alert_counts_clean\n"
   ]
  }
 ],
 "metadata": {
  "kernelspec": {
   "display_name": "base",
   "language": "python",
   "name": "python3"
  },
  "language_info": {
   "codemirror_mode": {
    "name": "ipython",
    "version": 3
   },
   "file_extension": ".py",
   "mimetype": "text/x-python",
   "name": "python",
   "nbconvert_exporter": "python",
   "pygments_lexer": "ipython3",
   "version": "3.11.4"
  }
 },
 "nbformat": 4,
 "nbformat_minor": 2
}
