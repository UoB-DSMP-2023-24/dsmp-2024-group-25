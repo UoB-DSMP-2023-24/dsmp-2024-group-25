{
 "cells": [
  {
   "cell_type": "code",
   "execution_count": 5,
   "metadata": {},
   "outputs": [],
   "source": [
    "import numpy as np\n",
    "import pandas as pd\n",
    "import re\n",
    "from sklearn.model_selection import train_test_split\n",
    "from sklearn.tree import DecisionTreeClassifier\n",
    "from sklearn.metrics import accuracy_score"
   ]
  },
  {
   "cell_type": "code",
   "execution_count": 2,
   "metadata": {},
   "outputs": [],
   "source": [
    "#load data\n",
    "data = pd.read_csv('fake_transactional_data_24.csv')"
   ]
  },
  {
   "cell_type": "code",
   "execution_count": 3,
   "metadata": {},
   "outputs": [],
   "source": [
    "#data restructure\n",
    "food_and_drinks = ['A_CAFE', 'A_LOCAL_COFFEE_SHOP', 'CAFE', 'CHINESE_RESTAURANT', 'CHINESE_TAKEAWAY', 'COFFEE_SHOP', 'GOURMET_COFFEE_SHOP', 'HIPSTER_COFFEE_SHOP', 'INDIAN_RESTAURANT', 'KEBAB_SHOP', 'LOCAL_RESTAURANT', 'LUNCH_PLACE', 'LUNCH_VAN', 'PRETENTIOUS_COFFEE_SHOP', 'RESTAURANT', 'RESTAURANT_VOUCHER', 'ROASTERIE', 'SANDWICH_SHOP', 'SEAFOOD_RESAURANT', 'STEAK_HOUSE', 'TAKEAWAY', 'TAKEAWAY_CURRY', 'TOTALLY_A_REAL_COFFEE_SHOP']\n",
    "groceries_and_ds = ['A_SUPERMARKET', 'BUTCHER', 'BUTCHERS', 'DEPARTMENT_STORE', 'EXPRESS_SUPERMARKET', 'GREENGROCER', 'LARGE_SUPERMARKET', 'THE_SUPERMARKET', 'TO_BEAN_OR_NOT_TO_BEAN', 'WE_HAVE_BEAN_WEIGHTING']\n",
    "clothing_and_jewellery = ['ACCESSORY_SHOP', 'CLOTHES_SHOP', 'FASHION_SHOP', 'FASHIONABLE_SPORTSWARE_SHOP', 'JEWLLERY_SHOP', 'KIDS_CLOTHING_SHOP']\n",
    "outdoor = ['BAR', 'CINEMA', 'COCKTAIL_BAR', 'G&T_BAR', 'LIQUOR_STORE', 'LOCAL_PUB', 'LOCAL_WATERING_HOLE', 'PUB', 'WHISKEY_BAR', 'WHISKEY_SHOP', 'WINE_BAR', 'WINE_CELLAR']\n",
    "indoor = ['BOOKSHOP', 'COMIC_BOOK_SHOP', 'DVD_SHOP', 'GAME_SHOP', 'LOCAL_BOOKSHOP', 'NERDY_BOOK_STORE', 'SECOND_HAND_BOOKSHOP', 'STREAMING_SERVICE', 'TOY_SHOP', 'VIDEO_GAME_STORE']\n",
    "daily_implement = ['CHILDRENDS_SHOP', 'COOKSHOP', 'DIY_STORE', 'ELECTRONICS_SHOP', 'GYM', 'HIPSTER_ELECTRONICS_SHOP', 'HOME_IMPROVEMENT_STORE', 'KIDS_ACTIVITY_CENTRE', 'PET_SHOP', 'PET_TOY_SHOP', 'RUNNING_SHOP', 'SCHOOL_SUPPLY_STORE', 'SPORT_SHOP', 'TEA_SHOP', 'TECH_SHOP', 'TRAINER_SHOP']"
   ]
  },
  {
   "cell_type": "code",
   "execution_count": 6,
   "metadata": {},
   "outputs": [
    {
     "name": "stdout",
     "output_type": "stream",
     "text": [
      "   from_totally_fake_account to_randomly_generated_account  \\\n",
      "0                       1000                Daily Purchase   \n",
      "1                       1000                  Food & Drink   \n",
      "2                       1000  Groceries & Department Store   \n",
      "3                       1000          Indoor Entertainment   \n",
      "4                       1000         Outdoor Entertainment   \n",
      "5                       1000                   transaction   \n",
      "6                       1002                Daily Purchase   \n",
      "7                       1002                  Food & Drink   \n",
      "8                       1002  Groceries & Department Store   \n",
      "9                       1002          Indoor Entertainment   \n",
      "\n",
      "   monopoly_money_amount  \n",
      "0                  54.00  \n",
      "1                 389.21  \n",
      "2                  13.18  \n",
      "3                  32.98  \n",
      "4                 449.32  \n",
      "5                1885.65  \n",
      "6                   5.91  \n",
      "7                 112.88  \n",
      "8                 205.20  \n",
      "9                  58.98  \n"
     ]
    }
   ],
   "source": [
    "#replace account to their type\n",
    "def replace_account_names(name, a, b, c, d, e, f):\n",
    "    if re.fullmatch(r'\\d+', name):\n",
    "        return 'transaction'\n",
    "    \n",
    "    elif name in a:\n",
    "        return 'Food & Drink'\n",
    "    \n",
    "    elif name in b:\n",
    "        return 'Groceries & Department Store'\n",
    "    \n",
    "    elif name in c:\n",
    "        return 'Clothing & Jewellery'\n",
    "    \n",
    "    elif name in d:\n",
    "        return 'Outdoor Entertainment'\n",
    "    \n",
    "    elif name in e:\n",
    "        return 'Indoor Entertainment'\n",
    "    \n",
    "    elif name in f:\n",
    "        return 'Daily Purchase'\n",
    "\n",
    "    else:\n",
    "        return name\n",
    "\n",
    "#restructure\n",
    "data['to_randomly_generated_account'] = data['to_randomly_generated_account'].apply(lambda x: replace_account_names(x, food_and_drinks, groceries_and_ds, clothing_and_jewellery, outdoor, indoor, daily_implement))\n",
    "\n",
    "account_type_cost = data.groupby(['from_totally_fake_account', 'to_randomly_generated_account'])['monopoly_money_amount'].sum().reset_index()\n",
    "\n",
    "print(account_type_cost.head(10))"
   ]
  }
 ],
 "metadata": {
  "kernelspec": {
   "display_name": "base",
   "language": "python",
   "name": "python3"
  },
  "language_info": {
   "codemirror_mode": {
    "name": "ipython",
    "version": 3
   },
   "file_extension": ".py",
   "mimetype": "text/x-python",
   "name": "python",
   "nbconvert_exporter": "python",
   "pygments_lexer": "ipython3",
   "version": "3.11.4"
  }
 },
 "nbformat": 4,
 "nbformat_minor": 2
}
