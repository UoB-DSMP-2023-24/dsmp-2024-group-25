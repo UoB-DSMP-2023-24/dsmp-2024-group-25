{
 "cells": [
  {
   "cell_type": "code",
   "execution_count": 3,
   "metadata": {},
   "outputs": [],
   "source": [
    "import pandas as pd\n",
    "from mlxtend.preprocessing import TransactionEncoder\n",
    "from mlxtend.frequent_patterns import apriori\n",
    "import re"
   ]
  },
  {
   "cell_type": "code",
   "execution_count": 2,
   "metadata": {},
   "outputs": [],
   "source": [
    "data = pd.read_csv('fake_transactional_data_24.csv')"
   ]
  },
  {
   "cell_type": "code",
   "execution_count": 4,
   "metadata": {},
   "outputs": [],
   "source": [
    "def replace_account_names(name):\n",
    "    if re.fullmatch(r'\\d+', name):\n",
    "        return 'transaction'\n",
    "\n",
    "    else:\n",
    "        return name\n",
    "\n",
    "#restructure\n",
    "data['to_randomly_generated_account'] = data['to_randomly_generated_account'].apply(lambda x: replace_account_names(x))\n",
    "\n",
    "\n",
    "transactions = data.groupby(['from_totally_fake_account', 'not_happened_yet_date'])['to_randomly_generated_account'].apply(list).tolist()"
   ]
  },
  {
   "cell_type": "code",
   "execution_count": 5,
   "metadata": {},
   "outputs": [],
   "source": [
    "te = TransactionEncoder()\n",
    "te_ary = te.fit(transactions).transform(transactions)\n",
    "df_encoded = pd.DataFrame(te_ary, columns=te.columns_)"
   ]
  },
  {
   "cell_type": "code",
   "execution_count": 6,
   "metadata": {},
   "outputs": [
    {
     "name": "stdout",
     "output_type": "stream",
     "text": [
      "Empty DataFrame\n",
      "Columns: [support, itemsets]\n",
      "Index: []\n"
     ]
    }
   ],
   "source": [
    "frequent_itemsets = apriori(df_encoded, min_support=0.5, use_colnames=True)\n",
    "print(frequent_itemsets)"
   ]
  }
 ],
 "metadata": {
  "kernelspec": {
   "display_name": "base",
   "language": "python",
   "name": "python3"
  },
  "language_info": {
   "codemirror_mode": {
    "name": "ipython",
    "version": 3
   },
   "file_extension": ".py",
   "mimetype": "text/x-python",
   "name": "python",
   "nbconvert_exporter": "python",
   "pygments_lexer": "ipython3",
   "version": "3.11.4"
  }
 },
 "nbformat": 4,
 "nbformat_minor": 2
}
