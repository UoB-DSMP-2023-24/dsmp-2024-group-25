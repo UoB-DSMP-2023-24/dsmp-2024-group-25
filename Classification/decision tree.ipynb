{
 "cells": [
  {
   "cell_type": "code",
   "execution_count": 6,
   "metadata": {},
   "outputs": [],
   "source": [
    "import numpy as np\n",
    "import pandas as pd\n",
    "import re\n",
    "from sklearn.model_selection import train_test_split\n",
    "from sklearn.tree import DecisionTreeClassifier\n",
    "from sklearn.multioutput import MultiOutputClassifier\n",
    "from sklearn.metrics import accuracy_score"
   ]
  },
  {
   "cell_type": "code",
   "execution_count": 2,
   "metadata": {},
   "outputs": [],
   "source": [
    "#load data\n",
    "data = pd.read_csv('fake_transactional_data_24.csv')"
   ]
  },
  {
   "cell_type": "code",
   "execution_count": 3,
   "metadata": {},
   "outputs": [],
   "source": [
    "#data restructure\n",
    "food_and_drinks = ['A_CAFE', 'A_LOCAL_COFFEE_SHOP', 'CAFE', 'CHINESE_RESTAURANT', 'CHINESE_TAKEAWAY', 'COFFEE_SHOP', 'GOURMET_COFFEE_SHOP', 'HIPSTER_COFFEE_SHOP', 'INDIAN_RESTAURANT', 'KEBAB_SHOP', 'LOCAL_RESTAURANT', 'LUNCH_PLACE', 'LUNCH_VAN', 'PRETENTIOUS_COFFEE_SHOP', 'RESTAURANT', 'RESTAURANT_VOUCHER', 'ROASTERIE', 'SANDWICH_SHOP', 'SEAFOOD_RESAURANT', 'STEAK_HOUSE', 'TAKEAWAY', 'TAKEAWAY_CURRY', 'TOTALLY_A_REAL_COFFEE_SHOP']\n",
    "groceries_and_ds = ['A_SUPERMARKET', 'BUTCHER', 'BUTCHERS', 'DEPARTMENT_STORE', 'EXPRESS_SUPERMARKET', 'GREENGROCER', 'LARGE_SUPERMARKET', 'THE_SUPERMARKET', 'TO_BEAN_OR_NOT_TO_BEAN', 'WE_HAVE_BEAN_WEIGHTING']\n",
    "clothing_and_jewellery = ['ACCESSORY_SHOP', 'CLOTHES_SHOP', 'FASHION_SHOP', 'FASHIONABLE_SPORTSWARE_SHOP', 'JEWLLERY_SHOP', 'KIDS_CLOTHING_SHOP']\n",
    "outdoor = ['BAR', 'CINEMA', 'COCKTAIL_BAR', 'G&T_BAR', 'LIQUOR_STORE', 'LOCAL_PUB', 'LOCAL_WATERING_HOLE', 'PUB', 'WHISKEY_BAR', 'WHISKEY_SHOP', 'WINE_BAR', 'WINE_CELLAR']\n",
    "indoor = ['BOOKSHOP', 'COMIC_BOOK_SHOP', 'DVD_SHOP', 'GAME_SHOP', 'LOCAL_BOOKSHOP', 'NERDY_BOOK_STORE', 'SECOND_HAND_BOOKSHOP', 'STREAMING_SERVICE', 'TOY_SHOP', 'VIDEO_GAME_STORE']\n",
    "daily_implement = ['CHILDRENDS_SHOP', 'COOKSHOP', 'DIY_STORE', 'ELECTRONICS_SHOP', 'GYM', 'HIPSTER_ELECTRONICS_SHOP', 'HOME_IMPROVEMENT_STORE', 'KIDS_ACTIVITY_CENTRE', 'PET_SHOP', 'PET_TOY_SHOP', 'RUNNING_SHOP', 'SCHOOL_SUPPLY_STORE', 'SPORT_SHOP', 'TEA_SHOP', 'TECH_SHOP', 'TRAINER_SHOP']"
   ]
  },
  {
   "cell_type": "code",
   "execution_count": 4,
   "metadata": {},
   "outputs": [
    {
     "name": "stdout",
     "output_type": "stream",
     "text": [
      "   from_totally_fake_account to_randomly_generated_account  \\\n",
      "0                       1000                Daily Purchase   \n",
      "1                       1000                  Food & Drink   \n",
      "2                       1000  Groceries & Department Store   \n",
      "3                       1000          Indoor Entertainment   \n",
      "4                       1000         Outdoor Entertainment   \n",
      "5                       1000                   transaction   \n",
      "6                       1002                Daily Purchase   \n",
      "7                       1002                  Food & Drink   \n",
      "8                       1002  Groceries & Department Store   \n",
      "9                       1002          Indoor Entertainment   \n",
      "\n",
      "   monopoly_money_amount  total_spending  category_percentage  \n",
      "0                  54.00         2824.34                 1.91  \n",
      "1                 389.21         2824.34                13.78  \n",
      "2                  13.18         2824.34                 0.47  \n",
      "3                  32.98         2824.34                 1.17  \n",
      "4                 449.32         2824.34                15.91  \n",
      "5                1885.65         2824.34                66.76  \n",
      "6                   5.91         1725.04                 0.34  \n",
      "7                 112.88         1725.04                 6.54  \n",
      "8                 205.20         1725.04                11.90  \n",
      "9                  58.98         1725.04                 3.42  \n"
     ]
    }
   ],
   "source": [
    "#replace account to their type\n",
    "def replace_account_names(name, a, b, c, d, e, f):\n",
    "    if re.fullmatch(r'\\d+', name):\n",
    "        return 'transaction'\n",
    "    \n",
    "    elif name in a:\n",
    "        return 'Food & Drink'\n",
    "    \n",
    "    elif name in b:\n",
    "        return 'Groceries & Department Store'\n",
    "    \n",
    "    elif name in c:\n",
    "        return 'Clothing & Jewellery'\n",
    "    \n",
    "    elif name in d:\n",
    "        return 'Outdoor Entertainment'\n",
    "    \n",
    "    elif name in e:\n",
    "        return 'Indoor Entertainment'\n",
    "    \n",
    "    elif name in f:\n",
    "        return 'Daily Purchase'\n",
    "\n",
    "    else:\n",
    "        return name\n",
    "\n",
    "#restructure\n",
    "data['to_randomly_generated_account'] = data['to_randomly_generated_account'].apply(lambda x: replace_account_names(x, food_and_drinks, groceries_and_ds, clothing_and_jewellery, outdoor, indoor, daily_implement))\n",
    "\n",
    "account_type_cost = data.groupby(['from_totally_fake_account', 'to_randomly_generated_account'])['monopoly_money_amount'].sum().reset_index()\n",
    "\n",
    "# print(account_type_cost.head(10))\n",
    "\n",
    "#show purchase proportion\n",
    "total_spending_per_account = data.groupby('from_totally_fake_account')['monopoly_money_amount'].sum().reset_index()\n",
    "total_spending_per_account.rename(columns={'monopoly_money_amount': 'total_spending'}, inplace=True)\n",
    "\n",
    "merged_data = pd.merge(account_type_cost, total_spending_per_account, on='from_totally_fake_account')\n",
    "\n",
    "merged_data['category_percentage'] = (merged_data['monopoly_money_amount'] / merged_data['total_spending'] * 100).round(2)\n",
    "\n",
    "print(merged_data.head(10))\n",
    "\n"
   ]
  },
  {
   "cell_type": "code",
   "execution_count": 14,
   "metadata": {},
   "outputs": [
    {
     "name": "stderr",
     "output_type": "stream",
     "text": [
      "/var/folders/bd/lf6gb3192ngddqgzx5zqq1bh0000gn/T/ipykernel_58561/2811273624.py:11: FutureWarning: The default value of numeric_only in DataFrameGroupBy.sum is deprecated. In a future version, numeric_only will default to False. Either specify numeric_only or select only columns which should be valid for the function.\n",
      "  high_ratio_features = merged_data.groupby('from_totally_fake_account').sum().reset_index()\n"
     ]
    }
   ],
   "source": [
    "#set the decision labels\n",
    "merged_data['Primary_F&D'] = merged_data.apply(lambda x: 1 if x['to_randomly_generated_account'] == 'Food & Drink' and x['category_percentage'] > 20 else 0, axis=1)\n",
    "merged_data['Primary_DP'] = merged_data.apply(lambda x: 1 if x['to_randomly_generated_account'] == 'Daily Purchase' and x['category_percentage'] > 20 else 0, axis=1)\n",
    "merged_data['Primary_G&DS'] = merged_data.apply(lambda x: 1 if x['to_randomly_generated_account'] == 'Groceries & Department Store' and x['category_percentage'] > 20 else 0, axis=1)\n",
    "merged_data['Primary_C&J'] = merged_data.apply(lambda x: 1 if x['to_randomly_generated_account'] == 'Clothing & Jewellery' and x['category_percentage'] > 20 else 0, axis=1)\n",
    "merged_data['Primary_IE'] = merged_data.apply(lambda x: 1 if x['to_randomly_generated_account'] == 'Indoor Entertainment' and x['category_percentage'] > 20 else 0, axis=1)\n",
    "merged_data['Primary_OE'] = merged_data.apply(lambda x: 1 if x['to_randomly_generated_account'] == 'Outdoor Entertainment' and x['category_percentage'] > 20 else 0, axis=1)\n",
    "merged_data['Primary_T'] = merged_data.apply(lambda x: 1 if x['to_randomly_generated_account'] == 'transaction' and x['category_percentage'] > 60 else 0, axis=1)\n",
    "\n",
    "#restructure\n",
    "high_ratio_features = merged_data.groupby('from_totally_fake_account').sum().reset_index()\n"
   ]
  },
  {
   "cell_type": "code",
   "execution_count": 15,
   "metadata": {},
   "outputs": [
    {
     "name": "stdout",
     "output_type": "stream",
     "text": [
      "Unique customers: 8142\n",
      "Customers type and sum:\n",
      "Primary_OE      4060\n",
      "Primary_G&DS    2783\n",
      "Primary_F&D     1154\n",
      "Primary_T       1145\n",
      "Primary_C&J      200\n",
      "Primary_DP        61\n",
      "Primary_IE         4\n",
      "dtype: int64\n",
      "No category customers: 1465\n"
     ]
    }
   ],
   "source": [
    "#dataset setup\n",
    "X = high_ratio_features.drop(['from_totally_fake_account', 'total_spending', 'monopoly_money_amount', 'category_percentage'], axis=1)\n",
    "Y = high_ratio_features[['Primary_F&D', 'Primary_DP', 'Primary_G&DS', 'Primary_C&J', 'Primary_IE', 'Primary_OE', 'Primary_T']]\n",
    "\n",
    "#train and test dataset setup, lucky number 17\n",
    "X_train, X_test, Y_train, Y_test = train_test_split(X, Y, test_size=0.2, random_state=17)\n",
    "\n",
    "\n",
    "#decision tree\n",
    "dt_clf = MultiOutputClassifier(DecisionTreeClassifier(random_state=17))\n",
    "\n",
    "#train model\n",
    "dt_clf.fit(X_train, Y_train)\n",
    "\n",
    "predictions = dt_clf.predict(X)\n",
    "predictions_df = pd.DataFrame(predictions, columns=Y_test.columns)\n",
    "customer_counts = predictions_df.sum().sort_values(ascending=False)\n",
    "\n",
    "unique_customers = data['from_totally_fake_account'].nunique()\n",
    "\n",
    "print(\"Unique customers:\", unique_customers)\n",
    "print(\"Customers type and sum:\")\n",
    "print(customer_counts)\n",
    "\n",
    "no_category_customers = predictions_df[(predictions_df.T == 0).all()].index\n",
    "print(\"No category customers:\", len(no_category_customers))"
   ]
  }
 ],
 "metadata": {
  "kernelspec": {
   "display_name": "base",
   "language": "python",
   "name": "python3"
  },
  "language_info": {
   "codemirror_mode": {
    "name": "ipython",
    "version": 3
   },
   "file_extension": ".py",
   "mimetype": "text/x-python",
   "name": "python",
   "nbconvert_exporter": "python",
   "pygments_lexer": "ipython3",
   "version": "3.11.4"
  }
 },
 "nbformat": 4,
 "nbformat_minor": 2
}
